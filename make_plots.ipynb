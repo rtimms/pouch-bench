{
 "cells": [
  {
   "cell_type": "code",
   "execution_count": null,
   "id": "needed-hunter",
   "metadata": {},
   "outputs": [],
   "source": [
    "import matplotlib.pyplot as plt \n",
    "import numpy as np\n",
    "import pickle"
   ]
  },
  {
   "cell_type": "markdown",
   "id": "alien-blocking",
   "metadata": {},
   "source": [
    "## Function to load and plot times"
   ]
  },
  {
   "cell_type": "code",
   "execution_count": null,
   "id": "stock-retirement",
   "metadata": {},
   "outputs": [],
   "source": [
    "def plot_times(filenames, labels=None):\n",
    "    \"\"\"Compare solve times for different files\"\"\"\n",
    "    \n",
    "    # create figure\n",
    "    fig, ax = plt.subplots(2, 2, figsize=(8, 8))\n",
    "    labels = labels or filenames\n",
    "    \n",
    "    for filename, label in zip(filenames, labels):\n",
    "        \n",
    "        # unpickle times and make lists\n",
    "        with open(\"data/\" + filename, 'rb') as handle:\n",
    "            times_and_states = pickle.load(handle)\n",
    "            \n",
    "        npts = list(times_and_states.keys())\n",
    "        states = [times_and_states[i][\"states\"] for i in npts]\n",
    "        setup_times = [times_and_states[i][\"setup time\"] for i in npts]\n",
    "        solve_times = [times_and_states[i][\"average solve time\"] for i in npts]\n",
    "        integration_times = [times_and_states[i][\"average integration time\"] for i in npts]\n",
    "\n",
    "        # add times to plot\n",
    "        ax[0, 0].plot(npts, setup_times, \"-o\")\n",
    "        ax[0, 1].plot(npts, solve_times, \"-o\")\n",
    "        ax[1, 0].plot(npts, integration_times, \"-o\")\n",
    "        ax[1, 1].loglog(states, integration_times, \"-o\", label=label)\n",
    "        ax[1, 1].set_aspect('equal', adjustable='box')        \n",
    "        # add fit to states vs integration times \n",
    "        m, c = np.polyfit(np.log10(states), np.log10(integration_times), 1)\n",
    "        ax[1, 1].loglog(states, 10**c * states**m, \"-\")\n",
    "        ax[1, 1].text(1e3, 10, f\"slope = {np.round(m)}\")\n",
    "\n",
    "    # add labels\n",
    "    ax[0, 0].set_xlabel(\"Number of coupled DFN models\")\n",
    "    ax[0, 0].set_ylabel(\"Setup time [s]\")   \n",
    "    ax[0, 1].set_xlabel(\"Number of coupled DFN models\")\n",
    "    ax[0, 1].set_ylabel(\"Solve time [s]\")        \n",
    "    ax[1, 0].set_xlabel(\"Number of coupled DFN models\")\n",
    "    ax[1, 0].set_ylabel(\"Integration time [s]\")       \n",
    "    ax[1, 1].set_xlabel(\"Number of states\")\n",
    "    ax[1, 1].set_ylabel(\"Integration time [s]\")        \n",
    "    if len(filenames) > 1:\n",
    "        ax[1, 1].legend(loc=\"lower right\")\n",
    "\n",
    "    plt.tight_layout()\n",
    "    \n",
    "    return fig, ax"
   ]
  },
  {
   "cell_type": "code",
   "execution_count": null,
   "id": "ac8dbd28",
   "metadata": {},
   "outputs": [],
   "source": [
    "def plot_times_shared(filename):\n",
    "    \"\"\"Plot solve times for a single file. Setup, solve and integration time are plotted on a shared axes.\"\"\"\n",
    "    \n",
    "    # create figure\n",
    "    fig, ax = plt.subplots(1, 2, figsize=(8, 4))\n",
    "       \n",
    "    # unpickle times and make lists\n",
    "    with open(\"data/\" + filename, 'rb') as handle:\n",
    "        times_and_states = pickle.load(handle)\n",
    "\n",
    "    npts = list(times_and_states.keys())\n",
    "    states = [times_and_states[i][\"states\"] for i in npts]\n",
    "    setup_times = [times_and_states[i][\"setup time\"] for i in npts]\n",
    "    solve_times = [times_and_states[i][\"average solve time\"] for i in npts]\n",
    "    integration_times = [times_and_states[i][\"average integration time\"] for i in npts]\n",
    "\n",
    "    # add times to plot\n",
    "    ax[0].plot(npts, setup_times, \"-o\", label=\"Setup time [s]\")\n",
    "    ax[0].plot(npts, solve_times, \"-o\", label=\"Solve time [s]\")\n",
    "    ax[0].plot(npts, integration_times, \"-o\", label=\"Integration time [s]\")\n",
    "    ax[1].loglog(states, integration_times, \"-o\")\n",
    "    \n",
    "    # add fit to states vs integration times \n",
    "    m, c = np.polyfit(np.log10(states), np.log10(integration_times), 1)\n",
    "    ax[1].loglog(states, 10**c * states**m, \"-\")\n",
    "    ax[1].text(1e3, 10, f\"slope = {np.round(m)}\")\n",
    "\n",
    "    # add labels\n",
    "    ax[0].set_xlabel(\"Number of coupled DFN models\")\n",
    "    ax[0].set_ylabel(\"Time [s]\")            \n",
    "    ax[0].legend()\n",
    "    ax[1].set_xlabel(\"Number of states\")\n",
    "    ax[1].set_ylabel(\"Integration time [s]\")        \n",
    "\n",
    "    plt.tight_layout()\n",
    "    \n",
    "    return fig, ax"
   ]
  },
  {
   "cell_type": "markdown",
   "id": "lucky-tyler",
   "metadata": {},
   "source": [
    "## Plot"
   ]
  },
  {
   "cell_type": "code",
   "execution_count": null,
   "id": "technical-cameroon",
   "metadata": {},
   "outputs": [],
   "source": [
    "%matplotlib\n",
    "filenames = [\"pouch_bench_atol6_rtol6.pkl\"]\n",
    "labels = [\" \"]\n",
    "_, ax = plot_times(filenames, labels)"
   ]
  },
  {
   "cell_type": "code",
   "execution_count": null,
   "id": "2b4a126c",
   "metadata": {},
   "outputs": [],
   "source": [
    "%matplotlib\n",
    "filename = \"pouch_bench_atol6_rtol6.pkl\"\n",
    "_, ax = plot_times_shared(filename)"
   ]
  },
  {
   "cell_type": "code",
   "execution_count": null,
   "id": "75244a93",
   "metadata": {},
   "outputs": [],
   "source": []
  }
 ],
 "metadata": {
  "kernelspec": {
   "display_name": "Python 3",
   "language": "python",
   "name": "python3"
  },
  "language_info": {
   "codemirror_mode": {
    "name": "ipython",
    "version": 3
   },
   "file_extension": ".py",
   "mimetype": "text/x-python",
   "name": "python",
   "nbconvert_exporter": "python",
   "pygments_lexer": "ipython3",
   "version": "3.7.12"
  }
 },
 "nbformat": 4,
 "nbformat_minor": 5
}
