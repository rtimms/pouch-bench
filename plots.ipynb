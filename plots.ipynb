{
 "cells": [
  {
   "cell_type": "code",
   "execution_count": 1,
   "id": "needed-hunter",
   "metadata": {},
   "outputs": [
    {
     "name": "stdout",
     "output_type": "stream",
     "text": [
      "Using matplotlib backend: TkAgg\n"
     ]
    }
   ],
   "source": [
    "import matplotlib.pyplot as plt \n",
    "from matplotlib.pyplot import cm\n",
    "import numpy as np\n",
    "import pickle\n",
    "\n",
    "%matplotlib"
   ]
  },
  {
   "cell_type": "markdown",
   "id": "4f5e0d37",
   "metadata": {},
   "source": [
    "# Plot times\n",
    "\n",
    "Here we define a function to create a plot of setup time, average solve time and average integration time vs number of coupled DFN models, and a loglog plot of integration time vs number of states."
   ]
  },
  {
   "cell_type": "code",
   "execution_count": 2,
   "id": "1103bf21",
   "metadata": {},
   "outputs": [],
   "source": [
    "def plot_times(filename, title=None):\n",
    "    \"Plot times for a given filename\"\n",
    "    \n",
    "    # unpickle times and make lists\n",
    "    with open(\"data/\" + filename, 'rb') as handle:\n",
    "        times_and_states = pickle.load(handle)\n",
    "\n",
    "    npts = list(times_and_states.keys())\n",
    "    states = [times_and_states[i][\"states\"] for i in npts]\n",
    "    setup_times = [times_and_states[i][\"setup time\"] for i in npts]\n",
    "    solve_times = [times_and_states[i][\"average solve time\"] for i in npts]\n",
    "    integration_times = [times_and_states[i][\"average integration time\"] for i in npts]\n",
    "\n",
    "    # create figure\n",
    "    fig, ax = plt.subplots(1, 2, figsize=(8, 4))\n",
    "    title = title or filename[:-4]\n",
    "    \n",
    "    # add times to plot\n",
    "    ax[0].plot(npts, setup_times, \"-o\", label=\"Setup time\")\n",
    "    ax[0].plot(npts, solve_times, \"-o\", label=\"Solve time\")\n",
    "    ax[0].plot(npts, integration_times, \"-o\", label=\"Integration time\")\n",
    "    ax[1].loglog(states, integration_times, \"-o\")\n",
    "\n",
    "    # add fit to states vs integration times \n",
    "    m, c = np.polyfit(np.log10(states), np.log10(integration_times), 1)\n",
    "    ax[1].loglog(states, 10**c * states**m, \"-\")\n",
    "    ax[1].text(1e3, 10, f\"slope = {np.round(m,2)}\")\n",
    "\n",
    "    # add labels\n",
    "    ax[0].set_xlabel(\"Number of coupled DFN models\")\n",
    "    ax[0].set_ylabel(\"Time [s]\")            \n",
    "    ax[0].legend()\n",
    "    ax[1].set_xlabel(\"Number of states\")\n",
    "    ax[1].set_ylabel(\"Integration time [s]\")        \n",
    "\n",
    "    plt.suptitle(title)\n",
    "    plt.tight_layout()\n",
    "        "
   ]
  },
  {
   "cell_type": "markdown",
   "id": "lucky-tyler",
   "metadata": {},
   "source": [
    "## Plot equipotential pair times "
   ]
  },
  {
   "cell_type": "code",
   "execution_count": 3,
   "id": "technical-cameroon",
   "metadata": {},
   "outputs": [],
   "source": [
    "plot_times(\"equipotential_pair.pkl\")"
   ]
  },
  {
   "cell_type": "markdown",
   "id": "f55ae67c",
   "metadata": {},
   "source": [
    "## Plot isothermal equipotential pair times "
   ]
  },
  {
   "cell_type": "code",
   "execution_count": 5,
   "id": "4c47799f",
   "metadata": {},
   "outputs": [],
   "source": [
    "plot_times(\"isothermal_equipotential_pair.pkl\")"
   ]
  },
  {
   "cell_type": "markdown",
   "id": "35d57e7f",
   "metadata": {},
   "source": [
    "## Plot potential pair times "
   ]
  },
  {
   "cell_type": "code",
   "execution_count": 6,
   "id": "0c4e9d7f",
   "metadata": {},
   "outputs": [],
   "source": [
    "plot_times(\"potential_pair.pkl\")"
   ]
  },
  {
   "cell_type": "markdown",
   "id": "445af32b",
   "metadata": {},
   "source": [
    "## Plot isothermal potential pair times "
   ]
  },
  {
   "cell_type": "code",
   "execution_count": 7,
   "id": "b485ac5e",
   "metadata": {},
   "outputs": [],
   "source": [
    "plot_times(\"isothermal_potential_pair.pkl\")"
   ]
  },
  {
   "cell_type": "markdown",
   "id": "f53c59dc",
   "metadata": {},
   "source": [
    "# Compare times for equipotential pair and potential pair model\n",
    "\n",
    "Here we define a function to create a plot to compare setup times, average solve times and average integration times from one or more files."
   ]
  },
  {
   "cell_type": "code",
   "execution_count": 8,
   "id": "f6cf2544",
   "metadata": {},
   "outputs": [],
   "source": [
    "def compare_times(filenames, labels=None):\n",
    "    \"\"\"Compare solve times for different files\"\"\"\n",
    "    \n",
    "    # create figure\n",
    "    fig, ax = plt.subplots(2, 2, figsize=(8, 8))\n",
    "    labels = labels or [filename[:-4] for filename in filenames]\n",
    "    colors = iter(cm.tab10(np.linspace(0, 1, 10)))\n",
    "    n = 0\n",
    "    \n",
    "    for filename, label in zip(filenames, labels):\n",
    "        color = next(colors)\n",
    "        n = n+1\n",
    "        \n",
    "        # unpickle times and make lists\n",
    "        with open(\"data/\" + filename, 'rb') as handle:\n",
    "            times_and_states = pickle.load(handle)\n",
    "            \n",
    "        npts = list(times_and_states.keys())\n",
    "        states = [times_and_states[i][\"states\"] for i in npts]\n",
    "        setup_times = [times_and_states[i][\"setup time\"] for i in npts]\n",
    "        solve_times = [times_and_states[i][\"average solve time\"] for i in npts]\n",
    "        integration_times = [times_and_states[i][\"average integration time\"] for i in npts]\n",
    "\n",
    "        # add times to plot\n",
    "        ax[0, 0].plot(npts, setup_times, \"-o\", c=color)\n",
    "        ax[0, 1].plot(npts, solve_times, \"-o\", c=color)\n",
    "        ax[1, 0].plot(npts, integration_times, \"-o\", c=color)\n",
    "        ax[1, 1].loglog(states, integration_times, \"-o\", label=label, c=color)\n",
    "\n",
    "    # add labels\n",
    "    ax[0, 0].set_xlabel(\"Number of coupled DFN models\")\n",
    "    ax[0, 0].set_ylabel(\"Setup time [s]\")   \n",
    "    ax[0, 1].set_xlabel(\"Number of coupled DFN models\")\n",
    "    ax[0, 1].set_ylabel(\"Solve time [s]\")        \n",
    "    ax[1, 0].set_xlabel(\"Number of coupled DFN models\")\n",
    "    ax[1, 0].set_ylabel(\"Integration time [s]\")       \n",
    "    ax[1, 1].set_xlabel(\"Number of states\")\n",
    "    ax[1, 1].set_ylabel(\"Integration time [s]\")        \n",
    "    if len(filenames) > 1:\n",
    "        ax[1, 1].legend(loc=\"lower right\")\n",
    "\n",
    "    plt.tight_layout()\n",
    "    \n",
    "    return fig, ax"
   ]
  },
  {
   "cell_type": "code",
   "execution_count": 9,
   "id": "3d0bb631",
   "metadata": {},
   "outputs": [],
   "source": [
    "filenames = [\"equipotential_pair.pkl\", \"potential_pair.pkl\"]\n",
    "_, ax = compare_times(filenames)"
   ]
  },
  {
   "cell_type": "code",
   "execution_count": null,
   "id": "8832bd2e",
   "metadata": {},
   "outputs": [],
   "source": []
  }
 ],
 "metadata": {
  "kernelspec": {
   "display_name": "Python 3",
   "language": "python",
   "name": "python3"
  },
  "language_info": {
   "codemirror_mode": {
    "name": "ipython",
    "version": 3
   },
   "file_extension": ".py",
   "mimetype": "text/x-python",
   "name": "python",
   "nbconvert_exporter": "python",
   "pygments_lexer": "ipython3",
   "version": "3.7.12"
  }
 },
 "nbformat": 4,
 "nbformat_minor": 5
}
